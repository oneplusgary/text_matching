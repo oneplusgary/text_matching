{
 "cells": [
  {
   "cell_type": "code",
   "execution_count": 1,
   "id": "610c0fd7-025b-4091-a69d-ee079b28e081",
   "metadata": {},
   "outputs": [],
   "source": [
    "import pandas as pd\n",
    "from sklearn.feature_extraction.text import TfidfVectorizer\n",
    "from sklearn.metrics.pairwise import cosine_similarity\n",
    "import numpy as np\n",
    "import re\n",
    "from nltk.corpus import stopwords"
   ]
  },
  {
   "cell_type": "markdown",
   "id": "5d6d9c6f-4b43-4102-848e-52a98a96d065",
   "metadata": {},
   "source": [
    "Function to lower case and remove punctuations."
   ]
  },
  {
   "cell_type": "code",
   "execution_count": 2,
   "id": "35e4a822-3713-4c4a-aa65-e88cc375456e",
   "metadata": {},
   "outputs": [],
   "source": [
    "def preprocess_text(text):\n",
    "    # Convert to lowercase\n",
    "    text = text.lower()\n",
    "    \n",
    "    # Remove punctuation and numbers\n",
    "    text = re.sub(r'[^a-z\\s]', '', text)\n",
    "    \n",
    "    # Tokenization\n",
    "    words = text.split()\n",
    "    \n",
    "    # Remove stop words\n",
    "    stop_words = set(stopwords.words('english'))\n",
    "    words = [word for word in words if word not in stop_words]\n",
    "    \n",
    "    return ' '.join(words)"
   ]
  },
  {
   "cell_type": "code",
   "execution_count": 3,
   "id": "8535f119-9370-403d-af88-99bfdfb8be3f",
   "metadata": {},
   "outputs": [],
   "source": [
    "#reading the files\n",
    "customer_db = pd.read_excel('your path.xlsx')  # customer database file\n",
    "transactions = pd.read_excel('your path.xlsx') # transactions file"
   ]
  },
  {
   "cell_type": "code",
   "execution_count": 4,
   "id": "44203b15-0cbc-4c7b-ba95-29fe28b16b0d",
   "metadata": {},
   "outputs": [],
   "source": [
    "# Preprocessing text and converting to list\n",
    "customer_db['names_prepped'] = customer_db[\"Customer Names\"].astype(str).apply(preprocess_text)\n",
    "customer_names = customer_db['names_prepped'].tolist()\n",
    "transactions['details_prepped'] = transactions['Remitter details'].astype(str).apply(preprocess_text)\n",
    "remitter_details = transactions['details_prepped'].tolist()"
   ]
  },
  {
   "cell_type": "code",
   "execution_count": 5,
   "id": "d221d909-946b-4008-a950-28afec10dbc2",
   "metadata": {},
   "outputs": [],
   "source": [
    "# tfidf_customer_names and tfidf_remitter_details contain the respective vectors\n",
    "vectorizer = TfidfVectorizer(analyzer='char', ngram_range=(2, 3)).fit(customer_names + remitter_details)\n",
    "tfidf_customer_names = vectorizer.transform(customer_names)\n",
    "tfidf_remitter_details = vectorizer.transform(remitter_details)"
   ]
  },
  {
   "cell_type": "code",
   "execution_count": 6,
   "id": "84738c54-bb70-4701-b097-17fa325183cd",
   "metadata": {},
   "outputs": [],
   "source": [
    "#Calculating cosine similarity between the two vectors\n",
    "cosine_similarities = cosine_similarity(tfidf_remitter_details, tfidf_customer_names)"
   ]
  },
  {
   "cell_type": "code",
   "execution_count": 7,
   "id": "6c1344b7-b0fb-44ad-b45d-ac721f212527",
   "metadata": {},
   "outputs": [],
   "source": [
    "results = []"
   ]
  },
  {
   "cell_type": "code",
   "execution_count": 8,
   "id": "87cd3031-34f8-4e3b-bac9-768213100940",
   "metadata": {},
   "outputs": [
    {
     "name": "stdout",
     "output_type": "stream",
     "text": [
      "   Transaction date Reference number           Remitter details   Amount  \\\n",
      "0        2024-02-02           123ABC          DR PATTI HOSPITAL     5000   \n",
      "1        2024-02-03           234DEF  National Institute of Men   100000   \n",
      "2        2024-02-04           456EFD          SANTOSHKUMARSINGH   501108   \n",
      "3        2024-02-05           678ABC              AARTI A SINGH    40000   \n",
      "4        2024-02-06           666BVG                   AMBANI S   456732   \n",
      "5        2024-02-07           789ION              Miss B SHUKLA    78000   \n",
      "6        2024-02-08           665YUB        FIT n Fine Bangalor     2398   \n",
      "7        2024-02-09           778NMJ       REJUVANATE MULTISPEC  1200000   \n",
      "8        2024-02-10           345TRE  THEHOPE HOSPITAL AND HEAL   100500   \n",
      "9        2024-02-11           234DEF        BEST CLINIC PVT LTD   100020   \n",
      "10       2024-02-12           234DEH             CleanGreenHosp      678   \n",
      "\n",
      "                                       Customer name  Customer Code  \\\n",
      "0                                     PATTI Hospital             12   \n",
      "1   NATIONAL INSTITUTE OF MENTAL HEALTH & Well Being              9   \n",
      "2                             DR SANTOSHKUMARSINGH                4   \n",
      "3                              DR AARTI AMIT SINGH                5   \n",
      "4                                           S.AMBANI              1   \n",
      "5                                             SHUKLA              6   \n",
      "6                          FIT n Fine CARE Bangalore              7   \n",
      "7            REJUVENATE ICU AND MULTISPECIALITY HOSP              8   \n",
      "8                                      HOPE HOSPITAL             10   \n",
      "9                                BEST CLINIC PVT LTD              3   \n",
      "10                          Clean and Green Hospital             15   \n",
      "\n",
      "    Similarity  Count  \n",
      "0     0.867458      1  \n",
      "1     0.757151      1  \n",
      "2     0.925179      1  \n",
      "3     0.622782      1  \n",
      "4     0.870258      1  \n",
      "5     0.570316      1  \n",
      "6     0.847482      1  \n",
      "7     0.588004      1  \n",
      "8     0.692097      1  \n",
      "9     1.000000      1  \n",
      "10    0.568227      1  \n"
     ]
    }
   ],
   "source": [
    "# Iterate over each name in the other file\n",
    "for index, row in transactions.iterrows():\n",
    "    preprocessed_name = preprocess_text(str(row['Remitter details']))\n",
    "    \n",
    "        # Find the best match in customer database\n",
    "    max_similarity_index = cosine_similarities[index].argmax()\n",
    "    index_list = np.argwhere(cosine_similarities[index] == cosine_similarities[(index,max_similarity_index)]).flatten().tolist()\n",
    "        \n",
    "        \n",
    "\n",
    "    if len(index_list) == 1:\n",
    "        \n",
    "        best_match_name = customer_names[max_similarity_index]\n",
    "        best_match_info = customer_db.iloc[max_similarity_index]\n",
    "        results.append({\n",
    "                    'Transaction date': row['Transaction date'],\n",
    "                    'Reference number': row['Reference Number'],\n",
    "                    'Remitter details': row['Remitter details'],\n",
    "                    'Amount' : row['Amount (INR)'],\n",
    "                    'Customer name': customer_db['Customer Names'][max_similarity_index],\n",
    "                    'Customer Code': customer_db['Customer Number'][max_similarity_index],\n",
    "                    'Similarity': cosine_similarities[(index,max_similarity_index)],\n",
    "                    'Count' : 1  #count is included to see how many customers are there with the same percentage match for a specific remitter name\n",
    "                })\n",
    "                          \n",
    "    else:\n",
    "\n",
    "        if cosine_similarities[(index,max_similarity_index)]!=0 :\n",
    "                \n",
    "            index_list_length = len(index_list)\n",
    "            for i in range(index_list_length):\n",
    "                    \n",
    "                    results.append({\n",
    "                    'Transaction date': row['Transaction date'],\n",
    "                    'Reference number': row['Reference Number'],\n",
    "                    'Remitter details': row['Remitter details'],\n",
    "                    'Amount' : row['Amount (INR)'],\n",
    "                    'Customer name': customer_db['Customer Names'][max_similarity_index],\n",
    "                    'Customer Code': customer_db['Customer Number'][max_similarity_index],\n",
    "                    'Similarity': cosine_similarities[(index,max_similarity_index)],\n",
    "                    'Count' : i+1\n",
    "                        }\n",
    "                                \n",
    "                              )\n",
    "        else:\n",
    "            continue\n",
    "\n",
    "# Create a DataFrame with the results\n",
    "results_df = pd.DataFrame(results)\n",
    "print(results_df)"
   ]
  },
  {
   "cell_type": "code",
   "execution_count": 9,
   "id": "95f0362c-e241-42a4-a70d-0b29f3e36e2c",
   "metadata": {},
   "outputs": [
    {
     "name": "stdout",
     "output_type": "stream",
     "text": [
      "DataFrame is written to Excel File successfully.\n"
     ]
    }
   ],
   "source": [
    "\n",
    "# determining the name of the file\n",
    "file_name = 'TextMatching.xlsx'\n",
    " \n",
    "# saving the excel\n",
    "results_df.to_excel(file_name)\n",
    "print('DataFrame is written to Excel File successfully.')"
   ]
  },
  {
   "cell_type": "code",
   "execution_count": null,
   "id": "2a99a681-f31f-4b0d-a719-e68ad86040ad",
   "metadata": {},
   "outputs": [],
   "source": []
  }
 ],
 "metadata": {
  "kernelspec": {
   "display_name": "Python 3 (ipykernel)",
   "language": "python",
   "name": "python3"
  },
  "language_info": {
   "codemirror_mode": {
    "name": "ipython",
    "version": 3
   },
   "file_extension": ".py",
   "mimetype": "text/x-python",
   "name": "python",
   "nbconvert_exporter": "python",
   "pygments_lexer": "ipython3",
   "version": "3.11.7"
  }
 },
 "nbformat": 4,
 "nbformat_minor": 5
}
